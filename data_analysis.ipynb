{
 "cells": [
  {
   "cell_type": "code",
   "execution_count": null,
   "metadata": {},
   "outputs": [],
   "source": [
    "# Importing Libraries required.\n",
    "import pandas as pd\n",
    "import matplotlib.pyplot as plt\n",
    "import seaborn as sns\n",
    "import numpy as np\n",
    "import re\n",
    "\n",
    "from sklearn.decomposition import PCA\n",
    "from sklearn.preprocessing import LabelEncoder, StandardScaler\n",
    "from sklearn.impute import SimpleImputer\n",
    "from sklearn.utils import resample\n",
    "\n",
    "from sklearn.metrics import silhouette_score, calinski_harabasz_score, davies_bouldin_score\n",
    "from sklearn.manifold import TSNE\n",
    "from sklearn.cluster import KMeans\n",
    "from yellowbrick.cluster import KElbowVisualizer\n",
    "from sklearn.preprocessing import OneHotEncoder, LabelEncoder, StandardScaler, OrdinalEncoder\n",
    "from sklearn.compose import ColumnTransformer\n",
    "from sklearn.pipeline import Pipeline\n"
   ]
  },
  {
   "cell_type": "code",
   "execution_count": null,
   "metadata": {},
   "outputs": [],
   "source": [
    "# Load the dataset from the CSV file\n",
    "study_data= pd.read_csv(\"mental-heath-in-tech-2016_20161114.csv\")"
   ]
  },
  {
   "cell_type": "code",
   "execution_count": null,
   "metadata": {},
   "outputs": [],
   "source": [
    "for col in study_data.columns:\n",
    "    print(col)"
   ]
  },
  {
   "cell_type": "code",
   "execution_count": null,
   "metadata": {},
   "outputs": [],
   "source": [
    "# Make a copy of the original colums to compare later\n",
    "orig_columns = study_data.columns\n",
    "\n",
    "# Rename the columns for better readability\n",
    "study_data.columns = [\n",
    "    \"self_employed\",\n",
    "    \"num_employees\",\n",
    "    \"employer_tech_company\",\n",
    "    \"role_related_to_tech\",\n",
    "    \"mental_health_benefits\",\n",
    "    \"know_mental_health_options\",\n",
    "    \"employer_discussed_mh\",\n",
    "    \"employer_mh_resources\",\n",
    "    \"anonymity_protected\",\n",
    "    \"mh_leave_comfort\",\n",
    "    \"mh_discussion_negative\",\n",
    "    \"ph_discussion_negative\",\n",
    "    \"mh_comfort_coworkers\",\n",
    "    \"mh_comfort_supervisor\",\n",
    "    \"employer_mh_priority\",\n",
    "    \"negative_consequences_observed\",\n",
    "    \"medical_coverage_mh\",\n",
    "    \"know_local_mh_resources\",\n",
    "    \"reveal_mh_clients\",\n",
    "    \"reveal_mh_clients_negative\",\n",
    "    \"reveal_mh_coworkers\",\n",
    "    \"reveal_mh_coworkers_negative\",\n",
    "    \"productivity_affected\",\n",
    "    \"work_time_affected_pct\",\n",
    "    \"previous_employers\",\n",
    "    \"prev_employers_mh_benefits\",\n",
    "    \"prev_employers_mh_options\",\n",
    "    \"prev_employers_discussed_mh\",\n",
    "    \"prev_employers_mh_resources\",\n",
    "    \"prev_employers_anonymity\",\n",
    "    \"prev_employers_mh_negative\",\n",
    "    \"prev_employers_ph_negative\",\n",
    "    \"mh_comfort_prev_coworkers\",\n",
    "    \"mh_comfort_prev_supervisor\",\n",
    "    \"prev_employers_mh_priority\",\n",
    "    \"prev_employers_negative_obs\",\n",
    "    \"physical_health_in_interview\",\n",
    "    \"physical_health_in_interview_reason\",\n",
    "    \"mental_health_in_interview\",\n",
    "    \"mental_health_in_interview_reason\",\n",
    "    \"mh_hurt_career\",\n",
    "    \"mh_viewed_negatively\",\n",
    "    \"mh_share_friends_family\",\n",
    "    \"unsupportive_response\",\n",
    "    \"observed_mh_discussion_effect\",\n",
    "    \"family_history_mh\",\n",
    "    \"past_mh_disorder\",\n",
    "    \"current_mh_disorder\",\n",
    "    \"current_mh_condition\",\n",
    "    \"maybe_mh_condition\",\n",
    "    \"diagnosed_mh_condition\",\n",
    "    \"diagnosed_mh_condition_details\",\n",
    "    \"sought_mh_treatment\",\n",
    "    \"mh_treatment_effective\",\n",
    "    \"mh_treatment_ineffective\",\n",
    "    \"age\",\n",
    "    \"gender\",\n",
    "    \"country_residence\",\n",
    "    \"us_state_residence\",\n",
    "    \"country_work\",\n",
    "    \"us_state_work\",\n",
    "    \"work_position\",\n",
    "    \"work_remote\"\n",
    "]\n",
    "\n",
    "print(orig_columns)"
   ]
  },
  {
   "cell_type": "code",
   "execution_count": null,
   "metadata": {},
   "outputs": [],
   "source": [
    "# Compare the original columns with the new columns\n",
    "for i in range(len(orig_columns)):\n",
    "    print(orig_columns[i], \" -> \", study_data.columns[i])"
   ]
  },
  {
   "cell_type": "markdown",
   "metadata": {},
   "source": [
    "# Get a brief overview of the data"
   ]
  },
  {
   "cell_type": "code",
   "execution_count": null,
   "metadata": {},
   "outputs": [],
   "source": [
    "# Display main statistics of each column\n",
    "describe = study_data.describe(include='all').T.to_string()\n",
    "print(describe)"
   ]
  },
  {
   "cell_type": "code",
   "execution_count": null,
   "metadata": {},
   "outputs": [],
   "source": [
    "# Display all unique values of each column\n",
    "for col in study_data.columns:\n",
    "    print(\"\\n\",study_data[col].value_counts(), \"\\n\")"
   ]
  },
  {
   "cell_type": "markdown",
   "metadata": {},
   "source": [
    "# Data cleaning"
   ]
  },
  {
   "cell_type": "markdown",
   "metadata": {},
   "source": [
    "## Remove answers with no informations"
   ]
  },
  {
   "cell_type": "code",
   "execution_count": null,
   "metadata": {},
   "outputs": [],
   "source": [
    "# Removing uncertain answers  \n",
    "study_data = study_data.replace(\"Not applicable to me\",np.nan)\n",
    "study_data = study_data.replace(\"I don't know\",np.nan)\n",
    "study_data = study_data.replace(\"I'm not sure\",np.nan)\n",
    "study_data = study_data.replace(\"N/A (not currently aware)\",np.nan)\n",
    "study_data = study_data.replace(\"Not eligible for coverage / N/A\",np.nan)\n",
    "study_data = study_data.replace(\"Not applicable to me (I do not have a mental illness)\", np.nan)"
   ]
  },
  {
   "cell_type": "markdown",
   "metadata": {},
   "source": [
    "## Unify country names"
   ]
  },
  {
   "cell_type": "code",
   "execution_count": null,
   "metadata": {},
   "outputs": [],
   "source": [
    "# Define a mapping for replacement\n",
    "country_mapping = {\n",
    "    'United States of America': 'USA',\n",
    "    'United Kingdom': 'UK'\n",
    "}\n",
    "\n",
    "# Replace values in both 'country_live' and 'country_work' columns\n",
    "study_data[['country_residence', 'country_work']] = study_data[['country_residence', 'country_work']].replace(country_mapping)"
   ]
  },
  {
   "cell_type": "markdown",
   "metadata": {},
   "source": [
    "## Drop redundant and unecessary features"
   ]
  },
  {
   "cell_type": "code",
   "execution_count": null,
   "metadata": {},
   "outputs": [],
   "source": [
    "# Check where county_work is different from country_residence\n",
    "i = 0\n",
    "for index, row in study_data.iterrows():\n",
    "    if row['country_residence'] != row['country_work']:\n",
    "        print(row['country_residence'], \" -> \", row['country_work'])\n",
    "        i += 1\n",
    "\n",
    "print(\"\\nTotal number of people having different work than residence countries: \", i/index*100, \"%\")"
   ]
  },
  {
   "cell_type": "markdown",
   "metadata": {},
   "source": [
    "\n",
    "#### Drop country_residence, us_state_residence, us_state_work because the information is not relevant for the topic"
   ]
  },
  {
   "cell_type": "code",
   "execution_count": null,
   "metadata": {},
   "outputs": [],
   "source": [
    "study_data.drop(columns=[\"country_residence\"], inplace=True)    # Drop the country_residence column\n",
    "study_data.drop(columns=[\"us_state_residence\"], inplace=True)   # Drop the us_state_residence column\n",
    "study_data.drop(columns=[\"us_state_work\"], inplace=True)        # Drop the us_state_work column"
   ]
  },
  {
   "cell_type": "markdown",
   "metadata": {},
   "source": [
    "#### Find coulums with contextual answers"
   ]
  },
  {
   "cell_type": "code",
   "execution_count": null,
   "metadata": {},
   "outputs": [],
   "source": [
    "# find columns with strings greater than 10 characters\n",
    "for col in study_data.columns:\n",
    "    if study_data[col].dtype == 'object':\n",
    "        if study_data[col].str.len().max() > 10:\n",
    "            print(\"\\n\",study_data[col].value_counts(), \"\\n\")"
   ]
  },
  {
   "cell_type": "code",
   "execution_count": null,
   "metadata": {},
   "outputs": [],
   "source": [
    "# Drop the columns with contextual data\n",
    "study_data.drop(columns=[\"physical_health_in_interview_reason\"], inplace=True)\n",
    "study_data.drop(columns=[\"mental_health_in_interview_reason\"], inplace=True)\n"
   ]
  },
  {
   "cell_type": "markdown",
   "metadata": {},
   "source": [
    "#### Replace "
   ]
  },
  {
   "cell_type": "markdown",
   "metadata": {},
   "source": [
    "## Replace age outliers"
   ]
  },
  {
   "cell_type": "code",
   "execution_count": null,
   "metadata": {},
   "outputs": [],
   "source": [
    "print(study_data['age'].unique())       # Display unique age values"
   ]
  },
  {
   "cell_type": "code",
   "execution_count": null,
   "metadata": {},
   "outputs": [],
   "source": [
    "age_copy = study_data['age'].copy()                     # Create a copy for later comparison\n",
    "study_data['age'] = study_data['age'].apply(\n",
    "    lambda x: np.nan if x < 15 or x > 75 else x         # Replace age outliers with NaN\n",
    "    )\n",
    "age_checksum = (study_data['age'] != age_copy).sum()    # Check how many rows were changed\n",
    "\n",
    "print(f\"Replaced age outliers with NaN for {age_checksum} rows.\")"
   ]
  },
  {
   "cell_type": "markdown",
   "metadata": {},
   "source": [
    "## Fill missing age values"
   ]
  },
  {
   "cell_type": "code",
   "execution_count": null,
   "metadata": {},
   "outputs": [],
   "source": [
    "age_copy_2 = study_data['age'].copy()                       # Create a copy for later comparison\n",
    "age_median = study_data['age'].median()                     # Calculate the median age\n",
    "study_data.fillna({'age': age_median}, inplace=True)        # Fill missing age values with the median\n",
    "age_checksum_2 = (age_copy_2 != study_data['age']).sum()    # Check how many rows were changed\n",
    "\n",
    "print(f\"Filled missing age values with the median: {age_median}  for {age_checksum_2} rows.\")"
   ]
  },
  {
   "cell_type": "markdown",
   "metadata": {},
   "source": [
    "## Reduce age to categories"
   ]
  },
  {
   "cell_type": "code",
   "execution_count": null,
   "metadata": {},
   "outputs": [],
   "source": [
    "study_data['age'] = pd.cut(\n",
    "    study_data['age'], \n",
    "    bins=[18, 30, 40, 50, 60, float('inf')],  # Extend bins to include all ages above 60\n",
    "    labels=['18-30', '30-40', '40-50', '50-60', '60+'], \n",
    "    right=False\n",
    ")\n",
    "print(study_data['age'].value_counts())"
   ]
  },
  {
   "cell_type": "markdown",
   "metadata": {},
   "source": [
    "## Replace company size "
   ]
  },
  {
   "cell_type": "code",
   "execution_count": null,
   "metadata": {},
   "outputs": [],
   "source": [
    "study_data['num_employees'] = study_data['num_employees'].replace('More than 1000', '1000+')"
   ]
  },
  {
   "cell_type": "markdown",
   "metadata": {},
   "source": [
    "## Drop rows with too many missing values\n"
   ]
  },
  {
   "cell_type": "code",
   "execution_count": null,
   "metadata": {},
   "outputs": [],
   "source": [
    "original_count = study_data.shape[0]                                            # Get the original row count\n",
    "study_data = study_data.dropna(thresh=study_data.shape[1] * 0.65)               # Drop rows with over 35% missing values\n",
    "drop_lines_percent = (1 - (study_data.shape[0] / original_count)) *100          # Calculate the percentage of dropped rows\n",
    "\n",
    "print(f\"Dropped {drop_lines_percent}% of rows due to missing values.\")"
   ]
  },
  {
   "cell_type": "markdown",
   "metadata": {},
   "source": [
    "## Drop columns with to many missing values"
   ]
  },
  {
   "cell_type": "markdown",
   "metadata": {},
   "source": [
    "#### Get an overview of the nan percentage in the columns"
   ]
  },
  {
   "cell_type": "code",
   "execution_count": null,
   "metadata": {},
   "outputs": [],
   "source": [
    "# Calculate NaN percentages\n",
    "nan_percentage = (study_data.isna().sum() / len(study_data)) * 100\n",
    "# Sort by percentage in descending order\n",
    "nan_percentage_sorted = nan_percentage.sort_values(ascending=False)\n",
    "\n",
    "# Display the sorted percentages\n",
    "print(nan_percentage_sorted.to_string())"
   ]
  },
  {
   "cell_type": "markdown",
   "metadata": {},
   "source": [
    "#### Drop columns with more than 50% of missing values"
   ]
  },
  {
   "cell_type": "code",
   "execution_count": null,
   "metadata": {},
   "outputs": [],
   "source": [
    "for col_name, percentage in nan_percentage_sorted.items():         # Iterate over the sorted percentages \n",
    "    if percentage > 50:                                            # If the percentage is over 30%\n",
    "        study_data.drop(col_name, axis=1, inplace=True)            # Drop the column from study_data"
   ]
  },
  {
   "cell_type": "markdown",
   "metadata": {},
   "source": [
    "#### Check for missing values percentage again"
   ]
  },
  {
   "cell_type": "code",
   "execution_count": null,
   "metadata": {},
   "outputs": [],
   "source": [
    "nan_percentage = (study_data.isna().sum() / len(study_data)) * 100  # Recalculate NaN percentages\n",
    "nan_percentage_sorted = nan_percentage.sort_values(ascending=False) # Sort by percentage in descending order\n",
    "\n",
    "print(nan_percentage_sorted.to_string())                            # Display the sorted percentages"
   ]
  },
  {
   "cell_type": "markdown",
   "metadata": {},
   "source": [
    "## Replace genders"
   ]
  },
  {
   "cell_type": "code",
   "execution_count": null,
   "metadata": {},
   "outputs": [],
   "source": [
    "# Define gender categories with a dictionary for efficient replacement\n",
    "gender_map = {\n",
    "    **{key: \"male\" for key in ['Male', 'male', 'Male ', 'M', 'm', 'man', 'Cis male', 'Male.', \n",
    "                               'male 9:1 female, roughly', 'Male (cis)', 'Man', 'Sex is male',\n",
    "                               'cis male', 'Malr', 'Dude', \n",
    "                               \"I'm a man why didn't you make this a drop down question. You should of asked sex? And I would of answered yes please. Seriously how much text can this take? \",\n",
    "                               'mail', 'M|', 'Male/genderqueer', 'male ', 'Cis Male', \n",
    "                               'Male (trans, FtM)', 'cisdude', 'cis man', 'MALE']},\n",
    "                               \n",
    "    **{key: \"female\" for key in ['Female', 'female', 'I identify as female.', 'female ', \n",
    "                                 'Female assigned at birth ',\n",
    "                                 'F', 'Woman', 'fm', 'f', 'Cis female ', 'Transitioned, M2F',\n",
    "                                 'Genderfluid (born female)', 'Female or Multi-Gender Femme', \n",
    "                                 'Female ', 'woman', 'female/woman', 'Cisgender Female', 'fem', \n",
    "                                 'Female (props for making this a freeform field, though)', \n",
    "                                 ' Female', 'Cis-woman', 'female-bodied; no feelings about gender',\n",
    "                                 'AFAB']}\n",
    "}\n",
    "\n",
    "# Store initial gender value counts\n",
    "gender_before = study_data[\"gender\"].value_counts()\n",
    "\n",
    "# Replace genders using the map and set all non-male/female values to 1\n",
    "study_data[\"gender\"] = study_data[\"gender\"].replace(gender_map).apply(\n",
    "    lambda x: \"queer\" if x not in [\"male\", \"female\"] else x\n",
    "    )\n",
    "\n",
    "# Display results\n",
    "print(\"Before:\\n\", gender_before, \"\\n\\n\\nAfter:\\n\", study_data[\"gender\"].value_counts())"
   ]
  },
  {
   "cell_type": "markdown",
   "metadata": {},
   "source": [
    "## Reducing countries of work"
   ]
  },
  {
   "cell_type": "code",
   "execution_count": null,
   "metadata": {},
   "outputs": [],
   "source": [
    "# Get the unique values of the 'country_work' column\n",
    "print(study_data['country_work'].value_counts())"
   ]
  },
  {
   "cell_type": "code",
   "execution_count": null,
   "metadata": {},
   "outputs": [],
   "source": [
    "# Map countries to continents\n",
    "# Define the continent mappings\n",
    "continent_mapping = {\n",
    "    **{country: \"north_america\" for country in [\"United States of America\", \"Canada\", \"Mexico\"]},\n",
    "    **{country: \"europe\" for country in [\n",
    "        \"United Kingdom\", \"Netherlands\", \"Germany\", \"Sweden\", \"France\",\n",
    "        \"Ireland\", \"Switzerland\", \"Bulgaria\", \"Finland\", \"Denmark\",\n",
    "        \"Russia\", \"Spain\", \"Norway\", \"Austria\", \"Bosnia and Herzegovina\",\n",
    "        \"Italy\", \"Poland\", \"Belgium\", \"Czech Republic\"]},\n",
    "}\n",
    "\n",
    "# Replace the values in 'country_work' column with the mapped values or \"Other\"\n",
    "study_data['country_work'] = study_data['country_work'].apply(lambda x: continent_mapping.get(x, \"Other\"))\n",
    "\n",
    "# Display the unique values of the 'country_work' column\n",
    "print(study_data['country_work'].value_counts())"
   ]
  },
  {
   "cell_type": "markdown",
   "metadata": {},
   "source": [
    "## Reducing work position\n"
   ]
  },
  {
   "cell_type": "code",
   "execution_count": null,
   "metadata": {},
   "outputs": [],
   "source": [
    "# Get the unique values of the 'work_position' column\n",
    "print(study_data['work_position'].value_counts().to_string())"
   ]
  },
  {
   "cell_type": "code",
   "execution_count": null,
   "metadata": {},
   "outputs": [],
   "source": [
    "# Optimized category mapping with direct keyword-to-category association\n",
    "keyword_to_category = {\n",
    "    \"supervisor\": \"Management\",\n",
    "    \"team lead\": \"Management\",\n",
    "    \"leadership\": \"Management\",\n",
    "    \"executive\": \"Management\",\n",
    "    \"back\": \"Development\",\n",
    "    \"developer\": \"Development\",\n",
    "    \"front\": \"Development\",\n",
    "    \"devops\": \"Development\",\n",
    "    \"sysadmin\": \"Development\",\n",
    "    \"dev\": \"Development\",\n",
    "    \"support\": \"Support\",\n",
    "    \"helpdesk\": \"Support\",\n",
    "    \"customer\": \"Support\",\n",
    "    \"design\": \"Design\",\n",
    "    \"ui\": \"Design\",\n",
    "    \"ux\": \"Design\",\n",
    "    \"creative\": \"Design\",\n",
    "    \"sales\": \"Sales\",\n",
    "    \"marketing\": \"Sales\",\n",
    "    \"business\": \"Sales\",\n",
    "    \"evangelist\": \"Advocacy\",\n",
    "    \"advocate\": \"Advocacy\",\n",
    "    \"hr\": \"Human Resources\",\n",
    "    \"human resources\": \"Human Resources\",\n",
    "    \"recruitment\": \"Human Resources\",\n",
    "}\n",
    "\n",
    "# Function to classify roles\n",
    "def categorize_role_optimized(role):\n",
    "    role = role.lower()  # Standardize to lowercase\n",
    "    for keyword, category in keyword_to_category.items():\n",
    "        if keyword in role:\n",
    "            return category\n",
    "    return \"Other\"  # Default for unmatched roles\n",
    "\n",
    "# Convert the entire column to lowercase for efficiency\n",
    "study_data['work_position'] = study_data['work_position'].str.lower()\n",
    "\n",
    "# Apply the optimized categorization function\n",
    "study_data['work_position'] = study_data['work_position'].apply(categorize_role_optimized)\n",
    "\n",
    "# Display the unique values and their counts\n",
    "print(study_data['work_position'].value_counts().to_string())"
   ]
  },
  {
   "cell_type": "markdown",
   "metadata": {},
   "source": [
    "## Display all unique values for each column"
   ]
  },
  {
   "cell_type": "code",
   "execution_count": null,
   "metadata": {},
   "outputs": [],
   "source": [
    "for col in study_data.columns:\n",
    "    print(\"\\n\\n\", study_data[col].value_counts().to_string(), \"\\n\\n\")"
   ]
  },
  {
   "cell_type": "markdown",
   "metadata": {},
   "source": [
    "Encode the  diagnosed_mh_condition_details column"
   ]
  },
  {
   "cell_type": "code",
   "execution_count": null,
   "metadata": {},
   "outputs": [],
   "source": [
    "# Create a set to store the individual values\n",
    "unique_values = set()\n",
    "\n",
    "# Iterate over the rows and save the unique strings split at '|'\n",
    "for value in study_data['diagnosed_mh_condition_details']:\n",
    "    if pd.notna(value):\n",
    "        unique_values.update(value.split('|'))\n",
    "\n",
    "# Display the unique values\n",
    "print(\"\\n\".join( unique_values))"
   ]
  },
  {
   "cell_type": "code",
   "execution_count": null,
   "metadata": {},
   "outputs": [],
   "source": [
    "# Iterate over the rows and split at '|'\n",
    "study_data['diagnosed_mh_condition_details'] = study_data['diagnosed_mh_condition_details'].apply(\n",
    "    lambda x: x.split('|') if pd.notna(x) else x\n",
    ")"
   ]
  },
  {
   "cell_type": "code",
   "execution_count": null,
   "metadata": {},
   "outputs": [],
   "source": [
    "# Define the mapping of disorders to categories\n",
    "disorder_category_mapping = {\n",
    "    # Mood Disorders\n",
    "    \"Depression\": \"Mood Disorders\",\n",
    "    \"Seasonal Affective Disorder\": \"Mood Disorders\",\n",
    "    \"Mood Disorder (Depression, Bipolar Disorder, etc)\": \"Mood Disorders\",\n",
    "    \"Suicidal Ideation\": \"Mood Disorders\",\n",
    "    \"Intimate Disorder\": \"Mood Disorders\",\n",
    "\n",
    "    # Anxiety and Stress-Related Disorders\n",
    "    \"Anxiety Disorder (Generalized, Social, Phobia, etc)\": \"Anxiety and Stress-Related Disorders\",\n",
    "    \"Post-traumatic Stress Disorder\": \"Anxiety and Stress-Related Disorders\",\n",
    "    \"Stress Response Syndromes\": \"Anxiety and Stress-Related Disorders\",\n",
    "    \"Obsessive-Compulsive Disorder\": \"Anxiety and Stress-Related Disorders\",\n",
    "    \"Gender Identity Disorder\": \"Anxiety and Stress-Related Disorders\",\n",
    "     \"posttraumatic stress disourder\": \"Anxiety and Stress-Related Disorders\",\n",
    "\n",
    "    # Neurodevelopmental Disorders\n",
    "    \"Attention Deficit Hyperactivity Disorder\": \"Neurodevelopmental Disorders\",\n",
    "    \"ADD (w/o Hyperactivity)\": \"Neurodevelopmental Disorders\",\n",
    "    \"Attention Deficit Disorder\": \"Neurodevelopmental Disorders\",\n",
    "    \"MCD (when it was diagnosed, the ultra-mega 'disorder' ADHD didn't exist yet)\": \"Neurodevelopmental Disorders\",\n",
    "    \"Autism Spectrum Disorder\": \"Neurodevelopmental Disorders\",\n",
    "    \"Autism\": \"Neurodevelopmental Disorders\",\n",
    "    \"Autism - while not a 'mental illness', still greatly affects how I handle anxiety\": \"Neurodevelopmental Disorders\",\n",
    "    \"Asperger Syndrome\": \"Neurodevelopmental Disorders\",\n",
    "    \"Aspergers\": \"Neurodevelopmental Disorders\",\n",
    "\n",
    "    # Personality Disorders\n",
    "    \"Personality Disorder (Borderline, Antisocial, Paranoid, etc)\": \"Personality Disorders\",\n",
    "    \"Gender Dysphoria\": \"Personality Disorders\",\n",
    "    \"Eating Disorder (Anorexia, Bulimia, etc)\": \"Personality Disorders\",\n",
    "\n",
    "    # Psychotic Disorders\n",
    "    \"Psychotic Disorder (Schizophrenia, Schizoaffective, etc)\": \"Psychotic Disorders\",\n",
    "    \"Dissociative Disorder\": \"Dissociative Disorders\",\n",
    "\n",
    "    # Substance-Related and Addictive Disorders\n",
    "    \"Substance Use Disorder\": \"Substance-Related and Addictive Disorders\",\n",
    "    \"Addictive Disorder\": \"Substance-Related and Addictive Disorders\",\n",
    "}\n",
    "\n",
    "def map_disorders_to_categories(disorder_list):\n",
    "    if isinstance(disorder_list, list):  # Check if input is a list\n",
    "        # Map the list\n",
    "        mapped_categories = []\n",
    "        for item in disorder_list:\n",
    "            mapped_categories.append(disorder_category_mapping.get(item, \"Other\"))\n",
    "        return mapped_categories\n",
    "    else:\n",
    "        return disorder_list  # Return as-is if not a list\n",
    "    \n",
    "# Apply the mapping to the DataFrame\n",
    "study_data['diagnosed_mh_condition_details'] = study_data['diagnosed_mh_condition_details'].apply(map_disorders_to_categories)\n",
    "\n",
    "# Take the mode of each row in the 'diagnosed_mh_condition_details' column\n",
    "study_data['diagnosed_mh_condition_details'] = study_data['diagnosed_mh_condition_details'].apply(\n",
    "    lambda x: max(set(x), key=x.count) if isinstance(x, list) else x\n",
    ")\n",
    "# Drop Other and Psychotic Disorders\n",
    "study_data['diagnosed_mh_condition_details'] = study_data['diagnosed_mh_condition_details'].replace('Other', np.nan)\n",
    "study_data['diagnosed_mh_condition_details'] = study_data['diagnosed_mh_condition_details'].replace('Psychotic Disorders', np.nan)"
   ]
  },
  {
   "cell_type": "code",
   "execution_count": null,
   "metadata": {},
   "outputs": [],
   "source": [
    "print(study_data['diagnosed_mh_condition_details'].value_counts())"
   ]
  },
  {
   "cell_type": "markdown",
   "metadata": {},
   "source": [
    "# Imoute missing values"
   ]
  },
  {
   "cell_type": "markdown",
   "metadata": {},
   "source": [
    "#### Get an overview of the missing data"
   ]
  },
  {
   "cell_type": "code",
   "execution_count": null,
   "metadata": {},
   "outputs": [],
   "source": [
    "# Display the missing value counts for each column and the most frequent value\n",
    "for col in study_data.columns:\n",
    "    print(f\"\\n{col}:\")\n",
    "    print('Number of missing values: ', study_data[col].isna().sum())\n",
    "    print('Most frequent value:      ', study_data[col].mode().values[0])"
   ]
  },
  {
   "cell_type": "markdown",
   "metadata": {},
   "source": [
    "#### Use resample to impute the missing data based on the proportion of the existing data to preserve variance"
   ]
  },
  {
   "cell_type": "code",
   "execution_count": null,
   "metadata": {},
   "outputs": [],
   "source": [
    "# Loop through the columns and replace missing values with the most frequent value\n",
    "for col in study_data.columns:\n",
    "  \n",
    "    # Replace missing values statistical most likely value\n",
    "    missing = study_data[col].isnull()\n",
    "    probs = study_data[col].value_counts(normalize=True)\n",
    "    study_data.loc[missing, col] = np.random.choice(probs.index, size=len(study_data[missing]), p=probs.values)"
   ]
  },
  {
   "cell_type": "markdown",
   "metadata": {},
   "source": [
    "#### Check if inputing was successful"
   ]
  },
  {
   "cell_type": "code",
   "execution_count": null,
   "metadata": {},
   "outputs": [],
   "source": [
    "# Create a check variable\n",
    "check = True\n",
    "\n",
    "# Check if there are any missing values left\n",
    "for col in study_data.columns:\n",
    "    if study_data[col].isna().sum() > 0:\n",
    "        print(col)\n",
    "    else:\n",
    "        check = False\n",
    "\n",
    "# If there are no missing values left, display a message\n",
    "if not check:\n",
    "    print(\"No missing values left.\")"
   ]
  },
  {
   "cell_type": "markdown",
   "metadata": {},
   "source": [
    "#### Final data shape"
   ]
  },
  {
   "cell_type": "code",
   "execution_count": null,
   "metadata": {},
   "outputs": [],
   "source": [
    "study_data.shape"
   ]
  },
  {
   "cell_type": "markdown",
   "metadata": {},
   "source": [
    "## Save the final data set to .csv"
   ]
  },
  {
   "cell_type": "code",
   "execution_count": null,
   "metadata": {},
   "outputs": [],
   "source": [
    "# Save to a new CSV file\n",
    "study_data.to_csv(\"prep_data.csv\", index=False)"
   ]
  },
  {
   "cell_type": "markdown",
   "metadata": {},
   "source": [
    "# Encoding"
   ]
  },
  {
   "cell_type": "code",
   "execution_count": 67,
   "metadata": {},
   "outputs": [],
   "source": [
    "# Select columns based on types\n",
    "numerical_cols = [\n",
    "    'employer_tech_company', \n",
    "    'self_employed', \n",
    "    'sought_mh_treatment', \n",
    "    'previous_employers'\n",
    "]\n",
    "\n",
    "# All columns with defined ordinal mapping\n",
    "ordinal_cols = [\n",
    "    'num_employees',\n",
    "    'mental_health_benefits',\n",
    "    'know_mental_health_options',\n",
    "    'employer_discussed_mh',\n",
    "    'employer_mh_resources',\n",
    "    'mh_leave_comfort',\n",
    "    'mh_discussion_negative',\n",
    "    'ph_discussion_negative',\n",
    "    'mh_comfort_coworkers',\n",
    "    'mh_comfort_supervisor',\n",
    "    'employer_mh_priority',\n",
    "    'negative_consequences_observed',\n",
    "    'prev_employers_mh_benefits',\n",
    "    'prev_employers_mh_options',\n",
    "    'prev_employers_discussed_mh',\n",
    "    'prev_employers_mh_resources',\n",
    "    'prev_employers_mh_negative',\n",
    "    'prev_employers_ph_negative',\n",
    "    'mh_comfort_prev_coworkers',\n",
    "    'mh_comfort_prev_supervisor',\n",
    "    'prev_employers_mh_priority',\n",
    "    'prev_employers_negative_obs',\n",
    "    'physical_health_in_interview',\n",
    "    'mental_health_in_interview',\n",
    "    'mh_hurt_career',\n",
    "    'mh_viewed_negatively',\n",
    "    'mh_share_friends_family',\n",
    "    'unsupportive_response',\n",
    "    'observed_mh_discussion_effect',\n",
    "    'family_history_mh',\n",
    "    'past_mh_disorder',\n",
    "    'current_mh_disorder',\n",
    "    'diagnosed_mh_condition',\n",
    "    'mh_treatment_effective',\n",
    "    'mh_treatment_ineffective',\n",
    "    'age',\n",
    "    'gender',\n",
    "    'work_remote'\n",
    "]\n",
    "\n",
    "# Remaining categorical columns (excluding ordinal columns)\n",
    "categorical_cols = [\n",
    "    'country_work', \n",
    "    'work_position',\n",
    "    'diagnosed_mh_condition_details'\n",
    "]\n",
    "\n",
    "\n",
    "ordinal_mapping = {\n",
    "    'num_employees': [\"1-5\", \"6-25\", \"26-100\", \"100-500\", \"500-1000\", \"1000+\"],\n",
    "    'mental_health_benefits': ['No', 'Yes'],\n",
    "    'know_mental_health_options': ['No', 'I am not sure', 'Yes'],\n",
    "    'employer_discussed_mh': ['No', 'Maybe', 'Yes'],\n",
    "    'employer_mh_resources': ['No', 'Some', 'Yes'],\n",
    "    'mh_leave_comfort': ['Very difficult', 'Somewhat difficult',  'Neither easy nor difficult', 'Somewhat easy', 'Very easy'],\n",
    "    'mh_discussion_negative': ['No', 'Maybe', 'Yes'],\n",
    "    'ph_discussion_negative': ['No', 'Maybe', 'Yes'],\n",
    "    'mh_comfort_coworkers': ['No', 'Maybe', 'Yes'],\n",
    "    'mh_comfort_supervisor': ['No', 'Maybe', 'Yes'],\n",
    "    'employer_mh_priority': ['No', 'Somewhat', 'Yes'],\n",
    "    'negative_consequences_observed': ['No', 'Maybe', 'Yes'],\n",
    "    'prev_employers_mh_benefits': ['No, none did', 'Some did', 'Yes, they all did'],\n",
    "    'prev_employers_mh_options': ['No, I only became aware later', 'I was aware of some', 'Yes, I was aware of all of them'],\n",
    "    'prev_employers_discussed_mh': ['None did', 'Some did', 'Yes, they all did'],\n",
    "    'prev_employers_mh_resources': ['None did', 'Some did', 'Yes, they all did'],\n",
    "    'prev_employers_mh_negative': ['None of them', 'Some of them', 'Yes, all of them'],\n",
    "    'prev_employers_ph_negative': ['None of them', 'Some of them', 'Yes, all of them'],\n",
    "    'mh_comfort_prev_coworkers': ['No, at none of my previous employers', 'Some of my previous employers', 'Yes, at all of my previous employers'],\n",
    "    'mh_comfort_prev_supervisor': ['No, at none of my previous employers', 'Some of my previous employers', 'Yes, at all of my previous employers'],\n",
    "    'prev_employers_mh_priority': ['None did', 'Some did', 'Yes, they all did'],\n",
    "    'prev_employers_negative_obs': ['None of them', 'Some of them', 'Yes, all of them'],\n",
    "    'physical_health_in_interview': ['No', 'Maybe', 'Yes'],\n",
    "    'mental_health_in_interview': ['No', 'Maybe', 'Yes'],\n",
    "    'mh_hurt_career': ['No, it has not', 'No, I don\\'t think it would', 'Maybe', 'Yes, I think it would', 'Yes, it has'],\n",
    "    'mh_viewed_negatively': ['No, they do not','No, I don\\'t think they would', 'Maybe','Yes, I think they would', 'Yes, they do'],\n",
    "    'mh_share_friends_family': ['Not open at all', 'Somewhat not open','Neutral', 'Somewhat open', 'Very open'],\n",
    "    'unsupportive_response': ['No', 'Maybe', 'Maybe/Not sure','Yes', 'Yes, I observed', 'Yes, I experienced'],\n",
    "    'observed_mh_discussion_effect': ['No', 'Maybe', 'Yes'],\n",
    "    'family_history_mh': ['No', 'Yes'],\n",
    "    'past_mh_disorder': ['No', 'Maybe', 'Yes'],\n",
    "    'current_mh_disorder': ['No', 'Maybe', 'Yes'],\n",
    "    'diagnosed_mh_condition': ['No', 'Yes'],\n",
    "    'mh_treatment_effective': ['Never', 'Rarely', 'Sometimes', 'Often'],\n",
    "    'mh_treatment_ineffective': ['Never', 'Rarely', 'Sometimes', 'Often'],\n",
    "    'age': ['18-30', '30-40', '40-50', '50-60', '60+'],\n",
    "    'gender': ['male', 'female', 'queer'],\n",
    "    'work_remote': ['Never', 'Sometimes', 'Always']\n",
    "}\n",
    "\n",
    "\n",
    "\n",
    "# Check if ordinal mapping is correct\n",
    "for col in study_data.columns:\n",
    "    for val in study_data[col].unique():\n",
    "        if col in ordinal_mapping and val not in ordinal_mapping[col]:\n",
    "            print(col, '-->', val)\n",
    "\n",
    "\n",
    "# Check if all ordinal columns are in the ordinal mapping\n",
    "for col in ordinal_cols:\n",
    "    if col not in ordinal_mapping:\n",
    "        print(col)\n",
    "\n",
    "\n",
    "\n",
    "check_list = numerical_cols + ordinal_cols + categorical_cols\n",
    "for col in study_data.columns:\n",
    "    if col not in check_list:\n",
    "        print(col)\n"
   ]
  }
 ],
 "metadata": {
  "kernelspec": {
   "display_name": ".venv",
   "language": "python",
   "name": "python3"
  },
  "language_info": {
   "codemirror_mode": {
    "name": "ipython",
    "version": 3
   },
   "file_extension": ".py",
   "mimetype": "text/x-python",
   "name": "python",
   "nbconvert_exporter": "python",
   "pygments_lexer": "ipython3",
   "version": "3.13.0"
  }
 },
 "nbformat": 4,
 "nbformat_minor": 2
}
